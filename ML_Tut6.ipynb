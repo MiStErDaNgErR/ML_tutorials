{
 "cells": [
  {
   "cell_type": "code",
   "execution_count": 1,
   "metadata": {},
   "outputs": [],
   "source": [
    "import numpy as np\n",
    "from matplotlib import pyplot as plt\n",
    "from seaborn import heatmap"
   ]
  },
  {
   "cell_type": "code",
   "execution_count": 2,
   "metadata": {},
   "outputs": [],
   "source": [
    "def dataSet_2():\n",
    "    X_train = np.array([-4, -3, -2, -1, 1]).reshape(-1, 1)\n",
    "    Y_train = np.sin(X_train)\n",
    "    X_test = np.arange(-5, 5, 0.2).reshape(-1, 1)\n",
    "    return X_train,Y_train,X_test"
   ]
  },
  {
   "cell_type": "code",
   "execution_count": 3,
   "metadata": {},
   "outputs": [],
   "source": [
    "def kernel(x1, x2, scale=1.0, sigma_f=1.0):\n",
    "    sqdist = np.sum(x1 ** 2, 1).reshape(-1, 1) + np.sum(x2 ** 2, 1) - 2 * np.dot(x1, x2.T)\n",
    "    return sigma_f ** 2 * np.exp(-0.5/scale ** 2 * sqdist)"
   ]
  },
  {
   "cell_type": "code",
   "execution_count": 4,
   "metadata": {},
   "outputs": [],
   "source": [
    "def plot_gp(mu, cov, X, X_train=None, Y_train=None, samples=[]):\n",
    "    X = X.ravel()\n",
    "    mu = mu.ravel()\n",
    "    uncertainty = 1.96 * np.sqrt(np.diag(cov))\n",
    "    plt.fill_between(X, mu + uncertainty, mu - uncertainty, alpha=0.1)\n",
    "    plt.plot(X, mu, label='Mean')\n",
    "    for i, sample in enumerate(samples):\n",
    "        plt.plot(X, sample, lw=1, ls='--', label=f'Sample {i+1}')\n",
    "    if X_train is not None:\n",
    "        plt.plot(X_train, Y_train, 'rx')\n",
    "    plt.legend()"
   ]
  },
  {
   "cell_type": "code",
   "execution_count": 5,
   "metadata": {},
   "outputs": [
    {
     "data": {
      "image/png": "[encoded data removed]",
      "text/plain": [
       "<Figure size 432x288 with 1 Axes>"
      ]
     },
     "metadata": {
      "needs_background": "light"
     },
     "output_type": "display_data"
    }
   ],
   "source": [
    "x_train, y_train, x_test = dataSet_2()\n",
    "plt.scatter(x_train, y_train)\n",
    "\n",
    "beta = 25\n",
    "C = kernel(x_train, x_train)\n",
    "k = kernel(x_train, x_test)\n",
    "c = kernel(x_test, x_test)\n",
    "\n",
    "C += np.eye(C.shape[0]) * (1/beta)\n",
    "L = np.linalg.cholesky(C)\n",
    "alpha = np.dot(np.linalg.inv(L.T), np.dot(np.linalg.inv(L), y_train))\n",
    "f = np.dot(k.T, alpha)\n",
    "v = np.dot(np.linalg.inv(L), k)\n",
    "var = c - np.dot(v.T, v)\n",
    "\n",
    "plot_gp(f, var, x_test, x_train, y_train)\n"
   ]
  },
  {
   "cell_type": "code",
   "execution_count": null,
   "metadata": {},
   "outputs": [],
   "source": []
  }
 ],
 "metadata": {
  "kernelspec": {
   "display_name": "Python 3",
   "language": "python",
   "name": "python3"
  },
  "language_info": {
   "codemirror_mode": {
    "name": "ipython",
    "version": 3
   },
   "file_extension": ".py",
   "mimetype": "text/x-python",
   "name": "python",
   "nbconvert_exporter": "python",
   "pygments_lexer": "ipython3",
   "version": "3.8.5"
  }
 },
 "nbformat": 4,
 "nbformat_minor": 4
}
